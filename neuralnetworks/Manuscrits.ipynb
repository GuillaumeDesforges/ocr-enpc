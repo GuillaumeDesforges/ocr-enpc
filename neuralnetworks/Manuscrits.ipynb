{
 "cells": [
  {
   "cell_type": "markdown",
   "metadata": {
    "slideshow": {
     "slide_type": "slide"
    }
   },
   "source": [
    "# Introduction\n",
    "\n",
    "This Notebook will guide you through understanding how to use Keras for OCR experimentations with CTC Loss.\n",
    "\n",
    "It was partially inspired by [the Keras' team example](https://github.com/keras-team/keras/blob/master/examples/image_ocr.py)."
   ]
  },
  {
   "cell_type": "markdown",
   "metadata": {
    "slideshow": {
     "slide_type": "slide"
    }
   },
   "source": [
    "# Making the data"
   ]
  },
  {
   "cell_type": "code",
   "execution_count": 1,
   "metadata": {
    "slideshow": {
     "slide_type": "subslide"
    }
   },
   "outputs": [],
   "source": [
    "from os.path import join, isfile"
   ]
  },
  {
   "cell_type": "code",
   "execution_count": 2,
   "metadata": {
    "slideshow": {
     "slide_type": "-"
    }
   },
   "outputs": [],
   "source": [
    "import numpy as np"
   ]
  },
  {
   "cell_type": "code",
   "execution_count": 3,
   "metadata": {
    "slideshow": {
     "slide_type": "-"
    }
   },
   "outputs": [],
   "source": [
    "import matplotlib\n",
    "import matplotlib.pyplot as plt\n",
    "from matplotlib.pyplot import imread"
   ]
  },
  {
   "cell_type": "code",
   "execution_count": 4,
   "metadata": {
    "slideshow": {
     "slide_type": "-"
    }
   },
   "outputs": [],
   "source": [
    "import cv2"
   ]
  },
  {
   "cell_type": "code",
   "execution_count": 5,
   "metadata": {
    "slideshow": {
     "slide_type": "skip"
    }
   },
   "outputs": [],
   "source": [
    "isDemoNotebook = True"
   ]
  },
  {
   "cell_type": "markdown",
   "metadata": {
    "slideshow": {
     "slide_type": "subslide"
    }
   },
   "source": [
    "We will use data given by the ENSC on Bodmer's manuscript.\n",
    "\n",
    "Files are named as \"{0}\\_{1}.{extension}\" where {0} is the page number and {1} is the line number code.\n",
    "\n",
    "The file _list.txt_ lists all existing data tags."
   ]
  },
  {
   "cell_type": "code",
   "execution_count": 6,
   "metadata": {
    "slideshow": {
     "slide_type": "-"
    }
   },
   "outputs": [],
   "source": [
    "path = \"../data/books/bodmer/full/\"\n",
    "\n",
    "with open(join(path, \"list.txt\"), 'r') as f:\n",
    "    tags =  [line.rstrip() for line in f.readlines()]"
   ]
  },
  {
   "cell_type": "markdown",
   "metadata": {
    "slideshow": {
     "slide_type": "subslide"
    }
   },
   "source": [
    "Before anything else, read data labels and remove empty ones."
   ]
  },
  {
   "cell_type": "code",
   "execution_count": 7,
   "metadata": {
    "slideshow": {
     "slide_type": "-"
    }
   },
   "outputs": [],
   "source": [
    "Y_texts = []\n",
    "for i, tag in enumerate(tags):\n",
    "    with open(path + '{}.txt'.format(tag)) as f:\n",
    "        y_text = f.readline().rstrip()\n",
    "        Y_texts.append(y_text)"
   ]
  },
  {
   "cell_type": "code",
   "execution_count": 8,
   "metadata": {
    "slideshow": {
     "slide_type": "-"
    }
   },
   "outputs": [],
   "source": [
    "tags, Y_texts = map(list, zip(*filter(lambda x: x[1] != '', zip(tags, Y_texts))))"
   ]
  },
  {
   "cell_type": "markdown",
   "metadata": {
    "slideshow": {
     "slide_type": "subslide"
    }
   },
   "source": [
    "Secondly build the alphabet from data.\n",
    "\n",
    "- *charset* is a dict with items (char, occurences)\n",
    "- *alphabet* is a string with all characters ordered"
   ]
  },
  {
   "cell_type": "code",
   "execution_count": 9,
   "metadata": {
    "slideshow": {
     "slide_type": "-"
    }
   },
   "outputs": [],
   "source": [
    "def update_charset(y_texts):\n",
    "        charset = {}\n",
    "        for y_text in Y_texts:\n",
    "            for char in y_text:\n",
    "                if char not in charset:\n",
    "                    charset[char] = 0\n",
    "                charset[char] += 1\n",
    "        alphabet = ''.join(map(lambda x:x[0], sorted(charset.items(), key=lambda x:x[1], reverse=True)))\n",
    "        return charset, alphabet"
   ]
  },
  {
   "cell_type": "code",
   "execution_count": 10,
   "metadata": {
    "slideshow": {
     "slide_type": "-"
    }
   },
   "outputs": [],
   "source": [
    "char_n_threshold = 5\n",
    "\n",
    "charset, alphabet = update_charset(Y_texts)\n",
    "while any([char_n < char_n_threshold for char_n in charset.values()]):\n",
    "    chars_to_delete = [char for char, char_n in charset.items() if char_n < char_n_threshold]\n",
    "    tags, Y_texts = map(list, zip(*filter(lambda x: not any([char_to_delete in x[1] for char_to_delete in chars_to_delete]), zip(tags, Y_texts))))\n",
    "    charset, alphabet = update_charset(Y_texts)"
   ]
  },
  {
   "cell_type": "markdown",
   "metadata": {
    "slideshow": {
     "slide_type": "subslide"
    }
   },
   "source": [
    "We can encode those texts into categorical labels :"
   ]
  },
  {
   "cell_type": "code",
   "execution_count": 11,
   "metadata": {
    "slideshow": {
     "slide_type": "-"
    }
   },
   "outputs": [],
   "source": [
    "def text_to_label(text):\n",
    "    return [alphabet.find(c) for c in text]"
   ]
  },
  {
   "cell_type": "code",
   "execution_count": 12,
   "metadata": {
    "slideshow": {
     "slide_type": "-"
    }
   },
   "outputs": [],
   "source": [
    "Y = [text_to_label(y_text) for y_text in Y_texts]"
   ]
  },
  {
   "cell_type": "markdown",
   "metadata": {
    "slideshow": {
     "slide_type": "subslide"
    }
   },
   "source": [
    "Then load image files."
   ]
  },
  {
   "cell_type": "code",
   "execution_count": 13,
   "metadata": {
    "slideshow": {
     "slide_type": "-"
    }
   },
   "outputs": [],
   "source": [
    "imgs = [imread(join(path, '{}.png'.format(tag))) for tag in tags]"
   ]
  },
  {
   "cell_type": "markdown",
   "metadata": {
    "slideshow": {
     "slide_type": "subslide"
    }
   },
   "source": [
    "Resize images in order to have the same height and only gray scale."
   ]
  },
  {
   "cell_type": "code",
   "execution_count": 14,
   "metadata": {
    "slideshow": {
     "slide_type": "-"
    }
   },
   "outputs": [],
   "source": [
    "img_height = 150\n",
    "\n",
    "X = []\n",
    "\n",
    "for i, (tag, img) in enumerate(zip(tags, imgs)):\n",
    "    x = img[:, :, :-2].mean(axis=2) if len(img.shape) > 2 else img\n",
    "    img_height_in, img_width_in = x.shape\n",
    "    img_width_out = int(img_width_in * (img_height/img_height_in))\n",
    "    # open cv is (width, height)\n",
    "    x = x.transpose()\n",
    "    x_resized = cv2.resize(x, dsize=(img_height, img_width_out), interpolation=cv2.INTER_LINEAR)\n",
    "    x_resized = x_resized.transpose()\n",
    "    X.append(x_resized)"
   ]
  },
  {
   "cell_type": "markdown",
   "metadata": {
    "slideshow": {
     "slide_type": "subslide"
    }
   },
   "source": [
    "CTC Loss will need some more data :\n",
    "\n",
    "- input data width\n",
    "- label lengths"
   ]
  },
  {
   "cell_type": "code",
   "execution_count": 15,
   "metadata": {
    "slideshow": {
     "slide_type": "-"
    }
   },
   "outputs": [],
   "source": [
    "X_widths = [x.shape[1] for x in X]\n",
    "X_widths_max = max(X_widths)"
   ]
  },
  {
   "cell_type": "code",
   "execution_count": 1,
   "metadata": {
    "slideshow": {
     "slide_type": "-"
    }
   },
   "outputs": [
    {
     "ename": "NameError",
     "evalue": "name 'Y_texts' is not defined",
     "output_type": "error",
     "traceback": [
      "\u001b[0;31m---------------------------------------------------------------------------\u001b[0m",
      "\u001b[0;31mNameError\u001b[0m                                 Traceback (most recent call last)",
      "\u001b[0;32m<ipython-input-1-c3b8cc1c2a28>\u001b[0m in \u001b[0;36m<module>\u001b[0;34m()\u001b[0m\n\u001b[0;32m----> 1\u001b[0;31m \u001b[0mY_lens\u001b[0m \u001b[0;34m=\u001b[0m \u001b[0;34m[\u001b[0m\u001b[0mlen\u001b[0m\u001b[0;34m(\u001b[0m\u001b[0my_text\u001b[0m\u001b[0;34m)\u001b[0m \u001b[0;32mfor\u001b[0m \u001b[0my_text\u001b[0m \u001b[0;32min\u001b[0m \u001b[0mY_texts\u001b[0m\u001b[0;34m]\u001b[0m\u001b[0;34m\u001b[0m\u001b[0m\n\u001b[0m\u001b[1;32m      2\u001b[0m \u001b[0mY_lens_max\u001b[0m \u001b[0;34m=\u001b[0m \u001b[0mmax\u001b[0m\u001b[0;34m(\u001b[0m\u001b[0mY_lens\u001b[0m\u001b[0;34m)\u001b[0m\u001b[0;34m\u001b[0m\u001b[0m\n",
      "\u001b[0;31mNameError\u001b[0m: name 'Y_texts' is not defined"
     ]
    }
   ],
   "source": [
    "Y_lens = [len(y_text) for y_text in Y_texts]\n",
    "Y_lens_max = max(Y_lens)"
   ]
  },
  {
   "cell_type": "markdown",
   "metadata": {
    "slideshow": {
     "slide_type": "subslide"
    }
   },
   "source": [
    "Moreover the input needs to be numpy arrays, which need to have fixed dimensions."
   ]
  },
  {
   "cell_type": "code",
   "execution_count": 17,
   "metadata": {
    "slideshow": {
     "slide_type": "-"
    }
   },
   "outputs": [],
   "source": [
    "X = np.array([np.hstack([x, np.ones((img_height, X_widths_max-width))]) for x, width in zip(X, X_widths)])"
   ]
  },
  {
   "cell_type": "markdown",
   "metadata": {
    "slideshow": {
     "slide_type": "subslide"
    }
   },
   "source": [
    "The input needs to have `ndim == 4` and to be width-first."
   ]
  },
  {
   "cell_type": "code",
   "execution_count": 18,
   "metadata": {
    "scrolled": true,
    "slideshow": {
     "slide_type": "-"
    }
   },
   "outputs": [],
   "source": [
    "X = np.swapaxes(X, 1, 2)[:, :, :, np.newaxis]"
   ]
  },
  {
   "cell_type": "code",
   "execution_count": 19,
   "metadata": {
    "slideshow": {
     "slide_type": "-"
    }
   },
   "outputs": [],
   "source": [
    "X_widths = np.array(X_widths)"
   ]
  },
  {
   "cell_type": "code",
   "execution_count": 20,
   "metadata": {
    "slideshow": {
     "slide_type": "-"
    }
   },
   "outputs": [],
   "source": [
    "Y = np.array([np.hstack([y, len(alphabet)*np.ones((Y_lens_max-l))]) for y, l in zip(Y, Y_lens)], dtype=np.int)"
   ]
  },
  {
   "cell_type": "code",
   "execution_count": 21,
   "metadata": {
    "slideshow": {
     "slide_type": "-"
    }
   },
   "outputs": [],
   "source": [
    "Y_lens = np.array(Y_lens)"
   ]
  },
  {
   "cell_type": "markdown",
   "metadata": {
    "slideshow": {
     "slide_type": "subslide"
    }
   },
   "source": [
    "Let us verify the input data :"
   ]
  },
  {
   "cell_type": "code",
   "execution_count": 22,
   "metadata": {
    "slideshow": {
     "slide_type": "subslide"
    }
   },
   "outputs": [
    {
     "data": {
      "image/png": "[encoded data removed]",
      "text/plain": [
       "<Figure size 1080x1080 with 3 Axes>"
      ]
     },
     "metadata": {},
     "output_type": "display_data"
    }
   ],
   "source": [
    "plt.figure(figsize=(15,15))\n",
    "\n",
    "for i, (x, y_text) in enumerate(list(zip(imgs, Y_texts))[:3]):\n",
    "    plt.subplot(10, 1, i+1)\n",
    "    plt.title(y_text)\n",
    "    plt.imshow(x, cmap=\"gray\")\n",
    "\n",
    "plt.tight_layout()"
   ]
  },
  {
   "cell_type": "markdown",
   "metadata": {
    "slideshow": {
     "slide_type": "slide"
    }
   },
   "source": [
    "# Train the model"
   ]
  },
  {
   "cell_type": "markdown",
   "metadata": {
    "slideshow": {
     "slide_type": "-"
    }
   },
   "source": [
    "We will now train a Neural Network with the data we just extracted.\n",
    "\n",
    "We can do this thanks to the very convenient *Connectionist Temporal Classification Loss* (CTC Loss) which works best on temporal data. Indeed the width in every line can be seen as a temporal sequence, from left to right."
   ]
  },
  {
   "cell_type": "code",
   "execution_count": 23,
   "metadata": {
    "slideshow": {
     "slide_type": "subslide"
    }
   },
   "outputs": [
    {
     "name": "stderr",
     "output_type": "stream",
     "text": [
      "/usr/lib/python3.6/site-packages/h5py/__init__.py:36: FutureWarning: Conversion of the second argument of issubdtype from `float` to `np.floating` is deprecated. In future, it will be treated as `np.float64 == np.dtype(float).type`.\n",
      "  from ._conv import register_converters as _register_converters\n",
      "Using TensorFlow backend.\n"
     ]
    }
   ],
   "source": [
    "import keras\n",
    "from keras import backend as K\n",
    "from keras import Model\n",
    "from keras.layers import Input, Conv2D, MaxPooling2D, GRU, LSTM, Dense, Activation, Lambda, Reshape\n",
    "from keras.optimizers import SGD"
   ]
  },
  {
   "cell_type": "markdown",
   "metadata": {
    "slideshow": {
     "slide_type": "subslide"
    }
   },
   "source": [
    "I used Tensorflow in this Notebook, be carefull of X's shape if you use other backends."
   ]
  },
  {
   "cell_type": "code",
   "execution_count": 24,
   "metadata": {
    "slideshow": {
     "slide_type": "-"
    }
   },
   "outputs": [],
   "source": [
    "if K.image_data_format() == 'channels_first':\n",
    "    input_shape = (1, X_widths_max, img_height)\n",
    "else:\n",
    "    input_shape = (X_widths_max, img_height, 1)"
   ]
  },
  {
   "cell_type": "markdown",
   "metadata": {
    "slideshow": {
     "slide_type": "subslide"
    }
   },
   "source": [
    "We create the layers for the model."
   ]
  },
  {
   "cell_type": "code",
   "execution_count": 25,
   "metadata": {
    "slideshow": {
     "slide_type": "subslide"
    }
   },
   "outputs": [],
   "source": [
    "# INPUT\n",
    "inputs = Input(name='inputs', shape=input_shape, dtype='float32')\n",
    "inputs_width = Input(name='inputs_width', shape=[1], dtype='int64')\n",
    "\n",
    "# LABELS\n",
    "labels = Input(name='labels', shape=[Y_lens_max], dtype='float32')\n",
    "labels_length = Input(name='labels_length', shape=[1], dtype='int64')\n",
    "\n",
    "# CNN\n",
    "conv1 = Conv2D(16, (5, 5), padding='same', activation='relu', name='conv1')(inputs)\n",
    "maxpool1 = MaxPooling2D(2, name='maxpool1')(conv1)\n",
    "conv2 = Conv2D(16, (5, 5), padding='same', activation='relu', name='conv2')(maxpool1)\n",
    "maxpool2 = MaxPooling2D(2, name='maxpool2')(conv2)\n",
    "conv3 = Conv2D(16, (5, 5), padding='same', activation='relu', name='conv3')(maxpool2)\n",
    "maxpool3 = MaxPooling2D(2, name='maxpool3')(conv3)\n",
    "reshape1 = Reshape((-1, 16*(img_height//(2**3))), name='reshape1')(maxpool3)\n",
    "\n",
    "# reduire hauteur\n",
    "# 2 ou 3 conv(3x3) avec + de features\n",
    "# pas de maxpool\n",
    "\n",
    "# RNN\n",
    "lstm1 = LSTM(500, return_sequences=True, kernel_initializer='he_normal', name='lstm1')(reshape1)\n",
    "## TODO add backward RNN\n",
    "\n",
    "# CHAR ACTIVATION\n",
    "dense1 = Dense(len(alphabet)+1, name='dense1')(lstm1)\n",
    "softmax1 = Activation('softmax', name='softmax1')(dense1)\n",
    "\n",
    "# CTC LOSS\n",
    "def ctc_lambda_func(args):\n",
    "    y_pred, labels, input_length, label_length = args\n",
    "    # the 2 is critical here since the first couple outputs of the RNN\n",
    "    # tend to be garbage:\n",
    "    # y_pred = y_pred[:, 2:, :]\n",
    "    return K.ctc_batch_cost(labels, y_pred, input_length, label_length)\n",
    "\n",
    "# CTC loss layer\n",
    "ctc1 = Lambda(ctc_lambda_func, output_shape=(1,), name='ctc1')([softmax1, labels, inputs_width, labels_length])"
   ]
  },
  {
   "cell_type": "markdown",
   "metadata": {
    "slideshow": {
     "slide_type": "subslide"
    }
   },
   "source": [
    "The `len(alphabet)+1` at line 23 is REALLY important !\n",
    "\n",
    "The CTC Loss needs the space to be put in alphabet as a label, and a *blank label* (or *null label*) which is not for spaces but rather \"no label detected\". This blank label is the last one index wise.\n",
    "\n",
    "The second dimension of the input given to CTC Loss is the `num_classes`, and is exactly the output dimension of the dense layer. This means the output of the dense layer needs to be of size `len(alphabet)+1` !\n",
    "\n",
    "Not doing this will result in a `Saw a non-null label (index >= num_classes - 1) following a null label` error."
   ]
  },
  {
   "cell_type": "code",
   "execution_count": 26,
   "metadata": {
    "slideshow": {
     "slide_type": "subslide"
    }
   },
   "outputs": [
    {
     "name": "stdout",
     "output_type": "stream",
     "text": [
      "__________________________________________________________________________________________________\n",
      "Layer (type)                    Output Shape         Param #     Connected to                     \n",
      "==================================================================================================\n",
      "inputs (InputLayer)             (None, 2775, 150, 1) 0                                            \n",
      "__________________________________________________________________________________________________\n",
      "conv1 (Conv2D)                  (None, 2775, 150, 16 416         inputs[0][0]                     \n",
      "__________________________________________________________________________________________________\n",
      "maxpool1 (MaxPooling2D)         (None, 1387, 75, 16) 0           conv1[0][0]                      \n",
      "__________________________________________________________________________________________________\n",
      "conv2 (Conv2D)                  (None, 1387, 75, 16) 6416        maxpool1[0][0]                   \n",
      "__________________________________________________________________________________________________\n",
      "maxpool2 (MaxPooling2D)         (None, 693, 37, 16)  0           conv2[0][0]                      \n",
      "__________________________________________________________________________________________________\n",
      "conv3 (Conv2D)                  (None, 693, 37, 16)  6416        maxpool2[0][0]                   \n",
      "__________________________________________________________________________________________________\n",
      "maxpool3 (MaxPooling2D)         (None, 346, 18, 16)  0           conv3[0][0]                      \n",
      "__________________________________________________________________________________________________\n",
      "reshape1 (Reshape)              (None, 346, 288)     0           maxpool3[0][0]                   \n",
      "__________________________________________________________________________________________________\n",
      "lstm1 (LSTM)                    (None, 346, 500)     1578000     reshape1[0][0]                   \n",
      "__________________________________________________________________________________________________\n",
      "dense1 (Dense)                  (None, 346, 61)      30561       lstm1[0][0]                      \n",
      "__________________________________________________________________________________________________\n",
      "softmax1 (Activation)           (None, 346, 61)      0           dense1[0][0]                     \n",
      "__________________________________________________________________________________________________\n",
      "labels (InputLayer)             (None, 47)           0                                            \n",
      "__________________________________________________________________________________________________\n",
      "inputs_width (InputLayer)       (None, 1)            0                                            \n",
      "__________________________________________________________________________________________________\n",
      "labels_length (InputLayer)      (None, 1)            0                                            \n",
      "__________________________________________________________________________________________________\n",
      "ctc1 (Lambda)                   (None, 1)            0           softmax1[0][0]                   \n",
      "                                                                 labels[0][0]                     \n",
      "                                                                 inputs_width[0][0]               \n",
      "                                                                 labels_length[0][0]              \n",
      "==================================================================================================\n",
      "Total params: 1,621,809\n",
      "Trainable params: 1,621,809\n",
      "Non-trainable params: 0\n",
      "__________________________________________________________________________________________________\n"
     ]
    }
   ],
   "source": [
    "model = Model(inputs=[inputs, labels, inputs_width, labels_length], outputs=ctc1)\n",
    "model.summary()"
   ]
  },
  {
   "cell_type": "code",
   "execution_count": 27,
   "metadata": {
    "slideshow": {
     "slide_type": "-"
    }
   },
   "outputs": [],
   "source": [
    "# clipnorm seems to speeds up convergence\n",
    "sgd = SGD(lr=0.02, decay=1e-6, momentum=0.9, nesterov=True, clipnorm=5)"
   ]
  },
  {
   "cell_type": "code",
   "execution_count": 28,
   "metadata": {
    "slideshow": {
     "slide_type": "-"
    }
   },
   "outputs": [],
   "source": [
    "# the loss calc occurs elsewhere, so use a dummy lambda func for the loss\n",
    "model.compile(\n",
    "    loss={'ctc1': lambda y_true, y_pred: y_pred},\n",
    "    optimizer=sgd\n",
    ")"
   ]
  },
  {
   "cell_type": "code",
   "execution_count": 29,
   "metadata": {
    "slideshow": {
     "slide_type": "notes"
    }
   },
   "outputs": [
    {
     "name": "stdout",
     "output_type": "stream",
     "text": [
      "Weight file found, loading weights.\n"
     ]
    }
   ],
   "source": [
    "model_filename = './models/model1.h5'\n",
    "\n",
    "if isfile(model_filename):\n",
    "    print(\"Weight file found, loading weights.\")\n",
    "    model_weights_file = model_filename\n",
    "    model.load_weights(model_weights_file)\n",
    "else:\n",
    "    print(\"No weight file found.\")"
   ]
  },
  {
   "cell_type": "markdown",
   "metadata": {
    "slideshow": {
     "slide_type": "subslide"
    }
   },
   "source": [
    "For visualization :"
   ]
  },
  {
   "cell_type": "code",
   "execution_count": 30,
   "metadata": {
    "slideshow": {
     "slide_type": "-"
    }
   },
   "outputs": [
    {
     "name": "stdout",
     "output_type": "stream",
     "text": [
      "WARNING:tensorflow:From /usr/lib/python3.6/site-packages/tensorflow/contrib/learn/python/learn/datasets/base.py:198: retry (from tensorflow.contrib.learn.python.learn.datasets.base) is deprecated and will be removed in a future version.\n",
      "Instructions for updating:\n",
      "Use the retry module or similar alternatives.\n"
     ]
    }
   ],
   "source": [
    "callback_tensorboard = keras.callbacks.TensorBoard(\n",
    "    #log_dir='./logs',\n",
    "    #histogram_freq=0,\n",
    "    #write_graph=True,\n",
    "    #write_grads=False,\n",
    "    write_images=True,\n",
    "    #embeddings_freq=0,\n",
    "    #embeddings_layer_names=None,\n",
    "    #embeddings_metadata=None\n",
    ")"
   ]
  },
  {
   "cell_type": "markdown",
   "metadata": {
    "slideshow": {
     "slide_type": "subslide"
    }
   },
   "source": [
    "We train the model :"
   ]
  },
  {
   "cell_type": "code",
   "execution_count": 31,
   "metadata": {
    "slideshow": {
     "slide_type": "-"
    }
   },
   "outputs": [],
   "source": [
    "if not isDemoNotebook:\n",
    "    # model already trained\n",
    "    model.fit(\n",
    "        x={\n",
    "            'inputs': X,\n",
    "            'inputs_width': X_widths//(2**3),\n",
    "            'labels': Y,\n",
    "            'labels_length': Y_lens,\n",
    "        },\n",
    "        y=Y,\n",
    "        epochs=10,\n",
    "        callbacks=[callback_tensorboard],\n",
    "        validation_split=0.2\n",
    "    )\n",
    "    model.save_weights(model_weights_file)"
   ]
  },
  {
   "cell_type": "markdown",
   "metadata": {
    "slideshow": {
     "slide_type": "slide"
    }
   },
   "source": [
    "# Model for predicting\n",
    "\n",
    "The previous model needs to be modified in order to be usable (input an image only, get the predicted text)."
   ]
  },
  {
   "cell_type": "code",
   "execution_count": 32,
   "metadata": {
    "slideshow": {
     "slide_type": "subslide"
    }
   },
   "outputs": [],
   "source": [
    "import Levenshtein"
   ]
  },
  {
   "cell_type": "code",
   "execution_count": 33,
   "metadata": {
    "slideshow": {
     "slide_type": "subslide"
    }
   },
   "outputs": [],
   "source": [
    "model_pred = Model(inputs, softmax1)\n",
    "model_pred.set_weights(model.get_weights())"
   ]
  },
  {
   "cell_type": "code",
   "execution_count": 34,
   "metadata": {
    "slideshow": {
     "slide_type": "subslide"
    }
   },
   "outputs": [],
   "source": [
    "Y_pred = model_pred.predict(X).argmax(axis=2)"
   ]
  },
  {
   "cell_type": "code",
   "execution_count": 35,
   "metadata": {
    "slideshow": {
     "slide_type": "-"
    }
   },
   "outputs": [],
   "source": [
    "def pred_to_text(y_pred):\n",
    "    text0 = ''.join([alphabet[l] if l != len(alphabet) else '-' for l in y_pred.tolist()])\n",
    "    text1 = '-'\n",
    "    for t in text0:\n",
    "        if text1[-1] == t:\n",
    "            continue\n",
    "        text1 += t\n",
    "    text2 = ''.join(filter(lambda x: x != '-', text1))\n",
    "    return text2"
   ]
  },
  {
   "cell_type": "code",
   "execution_count": 36,
   "metadata": {
    "scrolled": false,
    "slideshow": {
     "slide_type": "subslide"
    }
   },
   "outputs": [],
   "source": [
    "def print_pred(Y_pred, Y_texts, limit=10):\n",
    "    for i in range(limit):\n",
    "        print(\"Batch\", i)\n",
    "        y_text = pred_to_text(Y_pred[i])\n",
    "        Y_text = Y_texts[i]\n",
    "        print(\"  PRED :\", y_text)\n",
    "        print(\"  TRUE :\", Y_text)\n",
    "        print(\"  DIST :\", Levenshtein.distance(y_text, Y_text))"
   ]
  },
  {
   "cell_type": "code",
   "execution_count": 1,
   "metadata": {
    "scrolled": true,
    "slideshow": {
     "slide_type": "subslide"
    }
   },
   "outputs": [
    {
     "ename": "NameError",
     "evalue": "name 'print_pred' is not defined",
     "output_type": "error",
     "traceback": [
      "\u001b[0;31m---------------------------------------------------------------------------\u001b[0m",
      "\u001b[0;31mNameError\u001b[0m                                 Traceback (most recent call last)",
      "\u001b[0;32m<ipython-input-1-60d12b3025a5>\u001b[0m in \u001b[0;36m<module>\u001b[0;34m()\u001b[0m\n\u001b[0;32m----> 1\u001b[0;31m \u001b[0mprint_pred\u001b[0m\u001b[0;34m(\u001b[0m\u001b[0mY_pred\u001b[0m\u001b[0;34m[\u001b[0m\u001b[0;34m-\u001b[0m\u001b[0;36m10\u001b[0m\u001b[0;34m:\u001b[0m\u001b[0;34m]\u001b[0m\u001b[0;34m,\u001b[0m \u001b[0mY_texts\u001b[0m\u001b[0;34m[\u001b[0m\u001b[0;34m-\u001b[0m\u001b[0;36m10\u001b[0m\u001b[0;34m:\u001b[0m\u001b[0;34m]\u001b[0m\u001b[0;34m)\u001b[0m\u001b[0;34m\u001b[0m\u001b[0m\n\u001b[0m",
      "\u001b[0;31mNameError\u001b[0m: name 'print_pred' is not defined"
     ]
    }
   ],
   "source": [
    "print_pred(Y_pred[-10:], Y_texts[-10:])"
   ]
  },
  {
   "cell_type": "code",
   "execution_count": 38,
   "metadata": {
    "slideshow": {
     "slide_type": "subslide"
    }
   },
   "outputs": [],
   "source": [
    "def pred_distances(Y_pred, Y_texts):\n",
    "    return [Levenshtein.distance(y_text, pred_to_text(y_pred)) for y_pred, y_text in zip(Y_pred, Y_texts)]"
   ]
  },
  {
   "cell_type": "code",
   "execution_count": 39,
   "metadata": {
    "slideshow": {
     "slide_type": "subslide"
    }
   },
   "outputs": [],
   "source": [
    "Y_dist = pred_distances(Y_pred, Y_texts)"
   ]
  },
  {
   "cell_type": "code",
   "execution_count": 40,
   "metadata": {
    "slideshow": {
     "slide_type": "subslide"
    }
   },
   "outputs": [
    {
     "name": "stdout",
     "output_type": "stream",
     "text": [
      "Total distance : 2769\n",
      "Mean distance : 1.467408585055644\n"
     ]
    }
   ],
   "source": [
    "print(\"Total distance :\", sum(Y_dist))\n",
    "print(\"Mean distance :\", sum(Y_dist)/len(Y_dist))"
   ]
  },
  {
   "cell_type": "markdown",
   "metadata": {
    "slideshow": {
     "slide_type": "slide"
    }
   },
   "source": [
    "# Validation against noised data"
   ]
  },
  {
   "cell_type": "code",
   "execution_count": 41,
   "metadata": {
    "slideshow": {
     "slide_type": "subslide"
    }
   },
   "outputs": [],
   "source": [
    "X_noised = X + np.random.normal(scale=0.1, size=X.shape)"
   ]
  },
  {
   "cell_type": "code",
   "execution_count": 42,
   "metadata": {
    "scrolled": true,
    "slideshow": {
     "slide_type": "-"
    }
   },
   "outputs": [
    {
     "data": {
      "text/plain": [
       "<matplotlib.image.AxesImage at 0x7fc4acd42c88>"
      ]
     },
     "execution_count": 42,
     "metadata": {},
     "output_type": "execute_result"
    },
    {
     "data": {
      "image/png": "[encoded data removed]",
      "text/plain": [
       "<Figure size 720x720 with 1 Axes>"
      ]
     },
     "metadata": {},
     "output_type": "display_data"
    }
   ],
   "source": [
    "plt.figure(figsize=(10, 10))\n",
    "plt.imshow(X_noised[0].transpose().squeeze())"
   ]
  },
  {
   "cell_type": "code",
   "execution_count": 43,
   "metadata": {
    "slideshow": {
     "slide_type": "subslide"
    }
   },
   "outputs": [],
   "source": [
    "Y_noised_pred = model_pred.predict(X_noised).argmax(axis=2)"
   ]
  },
  {
   "cell_type": "code",
   "execution_count": 44,
   "metadata": {
    "slideshow": {
     "slide_type": "subslide"
    }
   },
   "outputs": [
    {
     "name": "stdout",
     "output_type": "stream",
     "text": [
      "Batch 0\n",
      "  PRED : D ũt bıen ſ̃t fɑıt leſ u͛ſ ꝑ ꝯſonãt\n",
      "  TRUE : D ũt bıen ſ̃t fɑıt leſ u͛ſ ꝑ ꝯſonãt\n",
      "  DIST : 0\n",
      "Batch 1\n",
      "  PRED : O ꝛe laıſt la noıſe ſı ſe treıe auãt\n",
      "  TRUE : O ꝛe laıſt la noıſe ſı ſe treıe auãt\n",
      "  DIST : 0\n",
      "Batch 2\n",
      "  PRED : D ırũ la flur δe la geſte uallãt\n",
      "  TRUE : D ırũ la flur δe la geſte uallãt\n",
      "  DIST : 0\n",
      "Batch 3\n",
      "  PRED : D el fız pepın le noble ꝯbatɑnt\n",
      "  TRUE : D el fız pepın le noble ꝯbatɑnt\n",
      "  DIST : 0\n",
      "Batch 4\n",
      "  PRED : D eſ δuze perſ qͥ ſentramerẽt tɑ̃t\n",
      "  TRUE : D eſ δuze perſ qͥ ſentrɑmerẽt tɑ̃t\n",
      "  DIST : 1\n",
      "Batch 5\n",
      "  PRED : k e Gueneſ leſ tͣı́ oδ la ſɑluage gẽt\n",
      "  TRUE : k e Gueneſ leſ tͣı́ oδ la ſɑluage gẽt\n",
      "  DIST : 0\n",
      "Batch 6\n",
      "  PRED : v n ıoꝛ mururẽt vı̃t mıllıer e ſet cẽt\n",
      "  TRUE : v n ıoꝛ mururẽt vı̃t mıllıer e ſet cẽt\n",
      "  DIST : 0\n",
      "Batch 7\n",
      "  PRED : D e cel barnage δũt charleſ ot δoel gͣnt\n",
      "  TRUE : D e cel barnage δũt charleſ ot δoel gͣnt\n",
      "  DIST : 0\n",
      "Batch 8\n",
      "  PRED : c ıl ı́ugleoꝛ nẽ δıẽt tãt ne qͣnt\n",
      "  TRUE : c ıl ı́ugleoꝛ nẽ δıẽt tãt ne qͣnt\n",
      "  DIST : 0\n",
      "Batch 9\n",
      "  PRED : t uı́t lont leıſſe kıl ne ſeuẽt nı́ent\n",
      "  TRUE : t uı́t lont leıſſe kıl ne ſeuẽt nı́ent\n",
      "  DIST : 0\n"
     ]
    }
   ],
   "source": [
    "print_pred(Y_noised_pred, Y_texts)"
   ]
  },
  {
   "cell_type": "code",
   "execution_count": 45,
   "metadata": {
    "slideshow": {
     "slide_type": "subslide"
    }
   },
   "outputs": [],
   "source": [
    "Y_noised_dist = pred_distances(Y_noised_pred, Y_texts)"
   ]
  },
  {
   "cell_type": "code",
   "execution_count": 46,
   "metadata": {
    "slideshow": {
     "slide_type": "-"
    }
   },
   "outputs": [
    {
     "name": "stdout",
     "output_type": "stream",
     "text": [
      "Total distance : 2933\n",
      "Mean distance : 1.5543190249072603\n"
     ]
    }
   ],
   "source": [
    "print(\"Total distance :\", sum(Y_noised_dist))\n",
    "print(\"Mean distance :\", sum(Y_noised_dist)/len(Y_noised_dist))"
   ]
  },
  {
   "cell_type": "markdown",
   "metadata": {
    "slideshow": {
     "slide_type": "slide"
    }
   },
   "source": [
    "**\"Et voilà !\"**\n",
    "\n",
    "\n",
    "More info : https://distill.pub/2017/ctc/\n",
    "\n",
    "Written by Guillaume Desforges"
   ]
  }
 ],
 "metadata": {
  "kernelspec": {
   "display_name": "Python 3 - GPU",
   "language": "python",
   "name": "python3-gpu"
  },
  "language_info": {
   "codemirror_mode": {
    "name": "ipython",
    "version": 3
   },
   "file_extension": ".py",
   "mimetype": "text/x-python",
   "name": "python",
   "nbconvert_exporter": "python",
   "pygments_lexer": "ipython3",
   "version": "3.6.5"
  }
 },
 "nbformat": 4,
 "nbformat_minor": 2
}
