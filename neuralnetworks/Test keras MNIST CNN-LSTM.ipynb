{
 "cells": [
  {
   "cell_type": "markdown",
   "metadata": {},
   "source": [
    "# Réseau CNN+LSTM pour le MNIST avec Keras"
   ]
  },
  {
   "cell_type": "markdown",
   "metadata": {},
   "source": [
    "On import d'abord ce qu'il faut."
   ]
  },
  {
   "cell_type": "code",
   "execution_count": 1,
   "metadata": {},
   "outputs": [
    {
     "name": "stderr",
     "output_type": "stream",
     "text": [
      "Using TensorFlow backend.\n"
     ]
    }
   ],
   "source": [
    "import numpy as np\n",
    "\n",
    "import matplotlib.pyplot as plt\n",
    "\n",
    "import keras\n",
    "from keras import backend as K\n",
    "from keras.models import Sequential\n",
    "from keras.layers import Conv2D, MaxPooling2D\n",
    "from keras.layers import LSTM\n",
    "from keras.layers import Dense, Dropout, Flatten, Reshape\n",
    "\n",
    "from keras.datasets import mnist"
   ]
  },
  {
   "cell_type": "markdown",
   "metadata": {},
   "source": [
    "## Datas\n",
    "\n",
    "On importe les données du MNSIT et on les met en forme pour Keras."
   ]
  },
  {
   "cell_type": "code",
   "execution_count": 2,
   "metadata": {},
   "outputs": [],
   "source": [
    "# Load training and eval data\n",
    "num_classes = 10\n",
    "img_rows, img_cols = 28, 28\n",
    "(x_train, y_train), (x_test, y_test) = mnist.load_data()\n",
    "\n",
    "if K.image_data_format() == 'channels_first':\n",
    "    x_train = x_train.reshape(x_train.shape[0], 1, img_rows, img_cols)\n",
    "    x_test = x_test.reshape(x_test.shape[0], 1, img_rows, img_cols)\n",
    "    input_shape = (1, img_rows, img_cols)\n",
    "else:\n",
    "    x_train = x_train.reshape(x_train.shape[0], img_rows, img_cols, 1)\n",
    "    x_test = x_test.reshape(x_test.shape[0], img_rows, img_cols, 1)\n",
    "    input_shape = (img_rows, img_cols, 1)\n",
    "    \n",
    "x_train = x_train.astype('float32')\n",
    "x_test = x_test.astype('float32')\n",
    "x_train /= 255\n",
    "x_test /= 255\n",
    "\n",
    "y_train = keras.utils.to_categorical(y_train, num_classes)\n",
    "y_test = keras.utils.to_categorical(y_test, num_classes)"
   ]
  },
  {
   "cell_type": "markdown",
   "metadata": {},
   "source": [
    "On représente l'absence d'un chiffre par une classe \"vide\" (qui sera ici d'index 0)"
   ]
  },
  {
   "cell_type": "code",
   "execution_count": 3,
   "metadata": {},
   "outputs": [],
   "source": [
    "output_sequence_lenght = 4\n",
    "num_classes = 11\n",
    "\n",
    "temp_y_train = np.zeros((y_train.shape[0], output_sequence_lenght, num_classes))\n",
    "temp_y_train[:, :-1, 0] = 1\n",
    "temp_y_train[:, -1, 1:] = y_train\n",
    "y_train = temp_y_train\n",
    "\n",
    "temp_y_test = np.zeros((y_test.shape[0], output_sequence_lenght, num_classes))\n",
    "temp_y_test[:, :-1, 0] = 1\n",
    "temp_y_test[:, -1, 1:] = y_test\n",
    "y_test = temp_y_test"
   ]
  },
  {
   "cell_type": "code",
   "execution_count": 4,
   "metadata": {},
   "outputs": [
    {
     "data": {
      "text/plain": [
       "array([[1., 0., 0., 0., 0., 0., 0., 0., 0., 0., 0.],\n",
       "       [1., 0., 0., 0., 0., 0., 0., 0., 0., 0., 0.],\n",
       "       [1., 0., 0., 0., 0., 0., 0., 0., 0., 0., 0.],\n",
       "       [0., 0., 0., 0., 0., 0., 1., 0., 0., 0., 0.]])"
      ]
     },
     "execution_count": 4,
     "metadata": {},
     "output_type": "execute_result"
    }
   ],
   "source": [
    "y_train[0]"
   ]
  },
  {
   "cell_type": "markdown",
   "metadata": {},
   "source": [
    "On peut récupérer la _truth value_ d'une image comme suit :"
   ]
  },
  {
   "cell_type": "code",
   "execution_count": 5,
   "metadata": {},
   "outputs": [
    {
     "data": {
      "text/plain": [
       "5"
      ]
     },
     "execution_count": 5,
     "metadata": {},
     "output_type": "execute_result"
    }
   ],
   "source": [
    "y_train[0,-1].argmax()-1"
   ]
  },
  {
   "cell_type": "code",
   "execution_count": 6,
   "metadata": {},
   "outputs": [
    {
     "data": {
      "text/plain": [
       "<matplotlib.image.AxesImage at 0x7f429f53ceb8>"
      ]
     },
     "execution_count": 6,
     "metadata": {},
     "output_type": "execute_result"
    },
    {
     "data": {
      "image/png": "[encoded data removed]",
      "text/plain": [
       "<matplotlib.figure.Figure at 0x7f42a27e0780>"
      ]
     },
     "metadata": {},
     "output_type": "display_data"
    }
   ],
   "source": [
    "plt.imshow(x_train[0].reshape(img_rows, img_cols), cmap='gray')"
   ]
  },
  {
   "cell_type": "markdown",
   "metadata": {},
   "source": [
    "## Modèle\n",
    "\n",
    "Le modèle est séquentiel : une couche après l'autre.\n",
    "On ajoute les couches dans l'ordre."
   ]
  },
  {
   "cell_type": "code",
   "execution_count": 7,
   "metadata": {},
   "outputs": [
    {
     "name": "stdout",
     "output_type": "stream",
     "text": [
      "_________________________________________________________________\n",
      "Layer (type)                 Output Shape              Param #   \n",
      "=================================================================\n",
      "conv2d_1 (Conv2D)            (None, 28, 28, 32)        832       \n",
      "_________________________________________________________________\n",
      "max_pooling2d_1 (MaxPooling2 (None, 14, 14, 32)        0         \n",
      "_________________________________________________________________\n",
      "conv2d_2 (Conv2D)            (None, 14, 14, 64)        18496     \n",
      "_________________________________________________________________\n",
      "max_pooling2d_2 (MaxPooling2 (None, 7, 7, 64)          0         \n",
      "_________________________________________________________________\n",
      "conv2d_3 (Conv2D)            (None, 1, 4, 64)          114752    \n",
      "_________________________________________________________________\n",
      "dropout_1 (Dropout)          (None, 1, 4, 64)          0         \n",
      "_________________________________________________________________\n",
      "reshape_1 (Reshape)          (None, 4, 64)             0         \n",
      "_________________________________________________________________\n",
      "lstm_1 (LSTM)                (None, 4, 32)             12416     \n",
      "_________________________________________________________________\n",
      "lstm_2 (LSTM)                (None, 4, 64)             24832     \n",
      "_________________________________________________________________\n",
      "dropout_2 (Dropout)          (None, 4, 64)             0         \n",
      "_________________________________________________________________\n",
      "dense_1 (Dense)              (None, 4, 64)             4160      \n",
      "_________________________________________________________________\n",
      "dropout_3 (Dropout)          (None, 4, 64)             0         \n",
      "_________________________________________________________________\n",
      "dense_2 (Dense)              (None, 4, 11)             715       \n",
      "=================================================================\n",
      "Total params: 176,203\n",
      "Trainable params: 176,203\n",
      "Non-trainable params: 0\n",
      "_________________________________________________________________\n"
     ]
    }
   ],
   "source": [
    "model = Sequential()\n",
    "\n",
    "# cnn\n",
    "model.add(Conv2D(32, kernel_size=(5, 5), padding='same', activation='relu', input_shape=input_shape))\n",
    "model.add(MaxPooling2D(pool_size=(2, 2)))\n",
    "model.add(Conv2D(64, (3, 3), padding='same', activation='relu'))\n",
    "model.add(MaxPooling2D(pool_size=(2, 2)))\n",
    "model.add(Conv2D(64, (7, 4), padding='valid', activation='relu'))\n",
    "model.add(Dropout(0.25))\n",
    "\n",
    "# lstm\n",
    "model.add(Reshape((output_sequence_lenght, 64)))\n",
    "model.add(LSTM(32, return_sequences=True))\n",
    "model.add(LSTM(64, return_sequences=True))\n",
    "model.add(Dropout(0.25))\n",
    "\n",
    "# dense\n",
    "model.add(Dense(64, activation='relu'))\n",
    "model.add(Dropout(0.5))\n",
    "\n",
    "# output\n",
    "model.add(Dense(num_classes, activation='softmax'))\n",
    "\n",
    "model.summary()"
   ]
  },
  {
   "cell_type": "markdown",
   "metadata": {},
   "source": [
    "Le modèle doit être compilé avant d'être entrainé et utilisé."
   ]
  },
  {
   "cell_type": "code",
   "execution_count": 8,
   "metadata": {},
   "outputs": [],
   "source": [
    "model.compile(loss=keras.losses.categorical_crossentropy,\n",
    "              optimizer=keras.optimizers.Adadelta(),\n",
    "              metrics=['accuracy'])"
   ]
  },
  {
   "cell_type": "markdown",
   "metadata": {},
   "source": [
    "On entraîne le réseau."
   ]
  },
  {
   "cell_type": "code",
   "execution_count": 9,
   "metadata": {
    "scrolled": true
   },
   "outputs": [
    {
     "name": "stdout",
     "output_type": "stream",
     "text": [
      "Train on 60000 samples, validate on 10000 samples\n",
      "Epoch 1/20\n",
      "60000/60000 [==============================] - 19s 317us/step - loss: 0.7166 - acc: 0.7813 - val_loss: 0.4731 - val_acc: 0.8205\n",
      "Epoch 2/20\n",
      "60000/60000 [==============================] - 16s 270us/step - loss: 0.4326 - acc: 0.8451 - val_loss: 0.2297 - val_acc: 0.9311\n",
      "Epoch 3/20\n",
      "60000/60000 [==============================] - 18s 293us/step - loss: 0.2175 - acc: 0.9294 - val_loss: 0.0950 - val_acc: 0.9723\n",
      "Epoch 4/20\n",
      "60000/60000 [==============================] - 17s 284us/step - loss: 0.1094 - acc: 0.9709 - val_loss: 0.0307 - val_acc: 0.9912\n",
      "Epoch 5/20\n",
      "60000/60000 [==============================] - 15s 248us/step - loss: 0.0650 - acc: 0.9838 - val_loss: 0.0249 - val_acc: 0.9927\n",
      "Epoch 6/20\n",
      "60000/60000 [==============================] - 17s 288us/step - loss: 0.0456 - acc: 0.9890 - val_loss: 0.0184 - val_acc: 0.9946\n",
      "Epoch 7/20\n",
      "60000/60000 [==============================] - 17s 282us/step - loss: 0.0375 - acc: 0.9910 - val_loss: 0.0182 - val_acc: 0.9950\n",
      "Epoch 8/20\n",
      "60000/60000 [==============================] - 16s 264us/step - loss: 0.0316 - acc: 0.9926 - val_loss: 0.0154 - val_acc: 0.9958\n",
      "Epoch 9/20\n",
      "60000/60000 [==============================] - 17s 280us/step - loss: 0.0267 - acc: 0.9936 - val_loss: 0.0140 - val_acc: 0.9962\n",
      "Epoch 10/20\n",
      "60000/60000 [==============================] - 17s 276us/step - loss: 0.0241 - acc: 0.9942 - val_loss: 0.0104 - val_acc: 0.9971\n",
      "Epoch 11/20\n",
      "60000/60000 [==============================] - 14s 236us/step - loss: 0.0225 - acc: 0.9947 - val_loss: 0.0112 - val_acc: 0.9968\n",
      "Epoch 12/20\n",
      "60000/60000 [==============================] - 13s 225us/step - loss: 0.0197 - acc: 0.9954 - val_loss: 0.0092 - val_acc: 0.9974\n",
      "Epoch 13/20\n",
      "60000/60000 [==============================] - 14s 230us/step - loss: 0.0185 - acc: 0.9955 - val_loss: 0.0104 - val_acc: 0.9970\n",
      "Epoch 14/20\n",
      "60000/60000 [==============================] - 15s 243us/step - loss: 0.0169 - acc: 0.9962 - val_loss: 0.0096 - val_acc: 0.9975\n",
      "Epoch 15/20\n",
      "60000/60000 [==============================] - 14s 238us/step - loss: 0.0161 - acc: 0.9963 - val_loss: 0.0093 - val_acc: 0.9978\n",
      "Epoch 16/20\n",
      "60000/60000 [==============================] - 14s 229us/step - loss: 0.0154 - acc: 0.9964 - val_loss: 0.0116 - val_acc: 0.9972\n",
      "Epoch 17/20\n",
      "60000/60000 [==============================] - 14s 230us/step - loss: 0.0144 - acc: 0.9966 - val_loss: 0.0114 - val_acc: 0.9976\n",
      "Epoch 18/20\n",
      "60000/60000 [==============================] - 14s 228us/step - loss: 0.0132 - acc: 0.9970 - val_loss: 0.0087 - val_acc: 0.9977\n",
      "Epoch 19/20\n",
      "60000/60000 [==============================] - 20s 337us/step - loss: 0.0128 - acc: 0.9970 - val_loss: 0.0087 - val_acc: 0.9978\n",
      "Epoch 20/20\n",
      "60000/60000 [==============================] - 20s 329us/step - loss: 0.0120 - acc: 0.9971 - val_loss: 0.0075 - val_acc: 0.9981\n"
     ]
    },
    {
     "data": {
      "text/plain": [
       "<keras.callbacks.History at 0x7f4291ac2358>"
      ]
     },
     "execution_count": 9,
     "metadata": {},
     "output_type": "execute_result"
    }
   ],
   "source": [
    "batch_size = 250\n",
    "epochs = 20\n",
    "\n",
    "model.fit(x_train, y_train,\n",
    "          batch_size=batch_size,\n",
    "          epochs=epochs,\n",
    "          verbose=1,\n",
    "          validation_data=(x_test, y_test))"
   ]
  },
  {
   "cell_type": "markdown",
   "metadata": {},
   "source": [
    "On évalue le réseau."
   ]
  },
  {
   "cell_type": "code",
   "execution_count": 10,
   "metadata": {},
   "outputs": [],
   "source": [
    "score = model.evaluate(x_test, y_test, verbose=0)"
   ]
  },
  {
   "cell_type": "code",
   "execution_count": 11,
   "metadata": {},
   "outputs": [
    {
     "name": "stdout",
     "output_type": "stream",
     "text": [
      "Test loss: 0.0075236998333562954\n",
      "Test accuracy: 0.9981\n"
     ]
    }
   ],
   "source": [
    "print('Test loss:', score[0])\n",
    "print('Test accuracy:', score[1])"
   ]
  },
  {
   "cell_type": "code",
   "execution_count": 12,
   "metadata": {
    "scrolled": true
   },
   "outputs": [
    {
     "data": {
      "image/png": "[encoded data removed]",
      "text/plain": [
       "<matplotlib.figure.Figure at 0x7f4314c1e6a0>"
      ]
     },
     "metadata": {},
     "output_type": "display_data"
    }
   ],
   "source": [
    "for i in range(4):\n",
    "    predicted = model.predict(np.array([x_test[i]]), batch_size=1).argmax(axis=2)[0,-1]-1\n",
    "    plt.subplot(2, 2, i+1)\n",
    "    plt.title(\"Value predicted is {}\".format(predicted))\n",
    "    plt.imshow(x_test[i].reshape(img_rows, img_cols), cmap='gray')\n",
    "plt.tight_layout()"
   ]
  },
  {
   "cell_type": "code",
   "execution_count": 13,
   "metadata": {},
   "outputs": [
    {
     "data": {
      "text/plain": [
       "<matplotlib.image.AxesImage at 0x7f4314c850f0>"
      ]
     },
     "execution_count": 13,
     "metadata": {},
     "output_type": "execute_result"
    },
    {
     "data": {
      "image/png": "[encoded data removed]",
      "text/plain": [
       "<matplotlib.figure.Figure at 0x7f430d797da0>"
      ]
     },
     "metadata": {},
     "output_type": "display_data"
    }
   ],
   "source": [
    "predicted = model.predict(np.array([np.zeros((28,28,1))]), batch_size=1).argmax(axis=2)[0,-1]-1\n",
    "plt.title(\"Value predicted is {}\".format(predicted))\n",
    "plt.imshow(np.zeros((28,28)).reshape(img_rows, img_cols), cmap='gray')"
   ]
  },
  {
   "cell_type": "markdown",
   "metadata": {},
   "source": [
    "L'absence de nombre est bien détecté !"
   ]
  },
  {
   "cell_type": "markdown",
   "metadata": {},
   "source": [
    "## Matrice de confusion"
   ]
  },
  {
   "cell_type": "code",
   "execution_count": 14,
   "metadata": {},
   "outputs": [],
   "source": [
    "y_test_class = y_test.argmax(axis=2)[:,-1]-1\n",
    "y_predicted_class = model.predict(x_test).argmax(axis=2)[:,-1]-1"
   ]
  },
  {
   "cell_type": "code",
   "execution_count": 15,
   "metadata": {},
   "outputs": [],
   "source": [
    "confusion_matrix = np.zeros((10, 10))"
   ]
  },
  {
   "cell_type": "code",
   "execution_count": 16,
   "metadata": {},
   "outputs": [],
   "source": [
    "for i in range(10):\n",
    "    for j in range(10):\n",
    "        confusion_matrix[i,j] += np.sum(np.logical_and(y_test_class == i, y_predicted_class == j))"
   ]
  },
  {
   "cell_type": "code",
   "execution_count": 17,
   "metadata": {},
   "outputs": [
    {
     "data": {
      "text/plain": [
       "array([[ 978,    0,    0,    0,    0,    0,    1,    1,    0,    0],\n",
       "       [   0, 1134,    0,    0,    0,    0,    1,    0,    0,    0],\n",
       "       [   2,    0, 1025,    0,    0,    0,    1,    3,    1,    0],\n",
       "       [   0,    0,    1,  999,    0,    6,    0,    4,    0,    0],\n",
       "       [   0,    0,    0,    0,  977,    0,    2,    0,    0,    3],\n",
       "       [   2,    0,    0,    8,    0,  881,    1,    0,    0,    0],\n",
       "       [   5,    2,    2,    0,    1,    1,  947,    0,    0,    0],\n",
       "       [   0,    2,    2,    0,    0,    0,    0, 1022,    1,    1],\n",
       "       [   1,    0,    3,    0,    1,    0,    0,    1,  964,    4],\n",
       "       [   0,    1,    0,    1,    3,    3,    0,    4,    0,  997]])"
      ]
     },
     "execution_count": 17,
     "metadata": {},
     "output_type": "execute_result"
    }
   ],
   "source": [
    "confusion_matrix.astype(int)"
   ]
  },
  {
   "cell_type": "code",
   "execution_count": 18,
   "metadata": {},
   "outputs": [
    {
     "name": "stderr",
     "output_type": "stream",
     "text": [
      "/home/arsleust/.local/lib/python3.6/site-packages/ipykernel_launcher.py:1: RuntimeWarning: divide by zero encountered in log\n",
      "  \"\"\"Entry point for launching an IPython kernel.\n"
     ]
    },
    {
     "data": {
      "text/plain": [
       "Text(0.5,0,'TRUE')"
      ]
     },
     "execution_count": 18,
     "metadata": {},
     "output_type": "execute_result"
    },
    {
     "data": {
      "image/png": "[encoded data removed]",
      "text/plain": [
       "<matplotlib.figure.Figure at 0x7f430d7943c8>"
      ]
     },
     "metadata": {},
     "output_type": "display_data"
    }
   ],
   "source": [
    "plt.imshow(np.log(confusion_matrix))\n",
    "plt.ylabel(\"PRED\")\n",
    "plt.xlabel(\"TRUE\")"
   ]
  }
 ],
 "metadata": {
  "kernelspec": {
   "display_name": "Python 3 - GPU",
   "language": "python",
   "name": "python3-gpu"
  },
  "language_info": {
   "codemirror_mode": {
    "name": "ipython",
    "version": 3
   },
   "file_extension": ".py",
   "mimetype": "text/x-python",
   "name": "python",
   "nbconvert_exporter": "python",
   "pygments_lexer": "ipython3",
   "version": "3.6.4"
  }
 },
 "nbformat": 4,
 "nbformat_minor": 2
}
